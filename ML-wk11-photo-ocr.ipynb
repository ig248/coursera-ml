{
 "cells": [
  {
   "cell_type": "markdown",
   "metadata": {},
   "source": [
    "# Coursera ML - Week 11\n",
    "\n",
    "https://www.coursera.org/learn/machine-learning/home/week/11"
   ]
  },
  {
   "cell_type": "markdown",
   "metadata": {},
   "source": [
    "# Application - Photo OCR (Optical Character Recognition)\n",
    "- Complex ML example\n",
    "- ML pipeline\n",
    "- Resource Allocation (time/team)\n",
    "- Computer Vision\n",
    "- Artificial Data Synthesis"
   ]
  },
  {
   "cell_type": "markdown",
   "metadata": {},
   "source": [
    "harder than scanned document"
   ]
  },
  {
   "cell_type": "markdown",
   "metadata": {},
   "source": [
    "## Pipeline\n",
    "1. Text detection\n",
    "2. Character segmentation\n",
    "3. Character classification\n",
    "4. (optional) Spelling correction"
   ]
  },
  {
   "cell_type": "markdown",
   "metadata": {},
   "source": [
    "### Sliding Windows Classifier\n",
    "find rectangles containing text\n",
    "#### Pedestrian detection\n",
    "Slightly simpler (?) since aspect ratio of rectangles similar, but size can wary\n",
    "\n",
    "Supervised learning for cropped sub-images - e.g. fixed size crops\n",
    "\n",
    "step size/stride parameter\n",
    "\n",
    "repeat for difffernt-sized patches - downsampling to base resolution\n",
    "\n",
    "#### Text detection\n",
    "\n",
    "  1. Sliding window\n",
    "  2. Expansion operator to obtain connected regions\n",
    "  3. Discard regions with implausible aspect ratios\n",
    "  4. Draw bounding boxes\n",
    "  \n",
    "#### 1D sliding window for character segmentation\n",
    "Train to detect splits between two characters"
   ]
  },
  {
   "cell_type": "markdown",
   "metadata": {},
   "source": [
    "### Artificial data synthesis\n",
    "Where to get massive training sets?\n",
    "\n",
    "Synthesise examples:\n",
    "- different fonts\n",
    "- random backgrounds\n",
    "- distortions\n",
    "\n",
    "Distortion should be representative of noise/distortion seen in test set.\n",
    "\n",
    "E.g. Audio: background noise, bad cellphone connection\n",
    "\n",
    "E.g. Photo: optical distortion\n",
    "\n",
    "Usually doesn't help to add purely random noise\n",
    "\n",
    "#### Cauition\n",
    "1. Make sure have a low bias classifier before data collection effort - plot learning curves. Increase # features/ # hidden units un NN until have low bias classifier\n",
    "2. How much work would it be to get 10x data?\n",
    "  - artificial data synthesis\n",
    "  - collect/label yourself\n",
    "  - \"crowd source\" (E.g. Amazon Mechanical Turk)"
   ]
  },
  {
   "cell_type": "markdown",
   "metadata": {},
   "source": [
    "### Ceiling Analysis\n",
    "Estimation of errors due to each component: provide *ground truth* for specific components and check effect.\n",
    "\n",
    "What part of the pipeline should I spend time on improving?\n",
    "\n",
    "Provide labelled set to test each part:\n",
    "\n",
    "| Component | Accuracy |\n",
    "| :---| ---:|\n",
    "|Text Detection| 89% |\n",
    "|Char segmentation| 90% |\n",
    "|Char recognition| 100% |\n",
    "|**Overall system**|**72%**|"
   ]
  },
  {
   "cell_type": "code",
   "execution_count": null,
   "metadata": {
    "collapsed": true
   },
   "outputs": [],
   "source": [
    "#### E"
   ]
  }
 ],
 "metadata": {
  "anaconda-cloud": {},
  "kernelspec": {
   "display_name": "Octave",
   "language": "octave",
   "name": "octave"
  },
  "language_info": {
   "file_extension": ".m",
   "help_links": [
    {
     "text": "GNU Octave",
     "url": "https://www.gnu.org/software/octave/support.html"
    },
    {
     "text": "Octave Kernel",
     "url": "https://github.com/Calysto/octave_kernel"
    },
    {
     "text": "MetaKernel Magics",
     "url": "https://github.com/calysto/metakernel/blob/master/metakernel/magics/README.md"
    }
   ],
   "mimetype": "text/x-octave",
   "name": "octave",
   "version": "4.0.2"
  }
 },
 "nbformat": 4,
 "nbformat_minor": 2
}
