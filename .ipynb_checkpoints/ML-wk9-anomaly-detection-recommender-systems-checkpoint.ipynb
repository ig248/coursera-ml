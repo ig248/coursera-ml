{
 "cells": [
  {
   "cell_type": "markdown",
   "metadata": {},
   "source": [
    "# Coursera ML - Week 9\n",
    "\n",
    "https://www.coursera.org/learn/machine-learning/home/week/9"
   ]
  },
  {
   "cell_type": "markdown",
   "metadata": {},
   "source": [
    "# Anomaly detection"
   ]
  },
  {
   "cell_type": "markdown",
   "metadata": {},
   "source": [
    "## Motivation\n",
    "E.g. QA for aircraft engines\n",
    "\n",
    "$x_1$ = heat generated\n",
    "\n",
    "$x_2$ = vibration intensity\n",
    "\n",
    "Dataset: $\\{x^{(1)}, \\dots\\, x^{(m)}\\}$\n",
    "\n",
    "New engine: $x_\\textrm{test}$ - is it an anomaly/outlier???\n",
    "\n",
    "## Probability from Density estimation\n",
    "Estimate PDF $p(x)$ from dataset\n",
    "\n",
    "$p(x_\\textrm{test}) < \\epsilon$ - anomaly\n",
    "\n",
    "$p(x_\\textrm{test}) \\geq \\epsilon$ - OK\n",
    "\n",
    "## Examples\n",
    "- Fraud detection from features of user behaviour\n",
    "- Manufacturing\n",
    "- Monitoring computers in a data center"
   ]
  },
  {
   "cell_type": "markdown",
   "metadata": {},
   "source": [
    "## Gaussian Distribution\n",
    "### Definition\n",
    "$$x\\sim N(\\mu, \\sigma^2)$$\n",
    "\n",
    "$$p(x) = \\frac{1}{\\sqrt{2\\pi} \\sigma}\\exp\\left( -\\frac{(x-\\mu)^2}{2\\sigma^2} \\right)$$\n",
    "\n",
    "### Parameter estimation\n",
    "Dataset: $\\{x^{(1)}, \\dots\\, x^{(m)}\\}$\n",
    "\n",
    "$\\mu$ = mean of $x$, $\\sigma^2$ = variance of $x$ (using $\\frac{1}{m}$)"
   ]
  },
  {
   "cell_type": "markdown",
   "metadata": {},
   "source": [
    "## Density estimation\n",
    "\n",
    "If independent: $p(x) = p_1(x_1)\\times\\dots\\times p_n(x_m)$,\n",
    "\n",
    "$x_i \\sim N(\\mu_i, \\sigma_i^2)$"
   ]
  },
  {
   "cell_type": "markdown",
   "metadata": {},
   "source": [
    "### Developing and evaluating an anomaly detection system\n",
    "\n",
    "Labeled data\n",
    "Say 10000 normal ($y=0$), 20 anomalous ($y=1$)\n",
    "- Training set: 6000 normal\n",
    "- Cross-validation set: 2000 normal, 10 anomalous\n",
    "- Test set: 2000 normal, 10 anomalous\n",
    "\n",
    "#### Training and validation:\n",
    "\n",
    "1. Fit model $p(x)$ on training set\n",
    "2. Predict $y=1$ if $p(x) < \\epsilon$ on CV and Test sets\n",
    "3. Possible evaluation metrics:\n",
    "    * True pos, false pos, false neg, true neg\n",
    "    * Precision/Recall\n",
    "    * $F_1$ score\n",
    "    \n",
    "> Can use cross-validation set to choose parameter $\\epsilon$"
   ]
  },
  {
   "cell_type": "markdown",
   "metadata": {},
   "source": [
    "## Anomaly detection vs. Supervised learning\n",
    "### Use anomaly detection with:\n",
    "- Very small number of positive examples (0-20)\n",
    "- Large number of negative examples\n",
    "- Many different \"types\" of anomalies\n",
    "- **Future anomalies may look very different from existing examples**\n",
    "- Examples:\n",
    "    * Fraud detection\n",
    "    * Manufacturing\n",
    "    * Monitoring machines in data center\n",
    "\n",
    "### Supervised learning\n",
    "- Large number of positive *and* negative examples \n",
    "- **Future positive examples likely similar to known ones**\n",
    "- Examples:\n",
    "    * Email spam classification\n",
    "    * Weather prediction\n",
    "    * Cancer classification"
   ]
  },
  {
   "cell_type": "markdown",
   "metadata": {},
   "source": [
    "## Choosing Features for Anomaly Detection\n",
    "\n",
    "Plot histogram and see if ~Gaussian\n",
    "\n",
    "If not, transform data to remove skew - e.g. take `log`, power"
   ]
  },
  {
   "cell_type": "code",
   "execution_count": 15,
   "metadata": {},
   "outputs": [
    {
     "data": {
      "image/png": "[encoded data removed]",
      "text/plain": [
       "<IPython.core.display.Image object>"
      ]
     },
     "metadata": {},
     "output_type": "display_data"
    }
   ],
   "source": [
    "x = exp(randn(1, 100000));\n",
    "subplot(1,2,1)\n",
    "hist(x, 50)\n",
    "subplot(1,2,2)\n",
    "hist(x.^0.01, 50)"
   ]
  },
  {
   "cell_type": "markdown",
   "metadata": {},
   "source": [
    "### Error analysis\n",
    "Want $p(x)$ large for normal $x$, small for anomalous $x$\n",
    "\n",
    "Most common problemL $p(x)$ is comparable (say, both large) for normal *and* anomalous examples\n",
    "\n",
    "**add/create new features!!!**"
   ]
  },
  {
   "cell_type": "markdown",
   "metadata": {},
   "source": [
    "## Multivariate Gaussian distribution\n",
    "Non-independent features\n",
    "\n",
    "$$p(x) = \\frac{1}{\\sqrt{2\\pi|\\Sigma|}}\\exp\\left( -\\frac{1}{2}(x-\\mu)^T \\Sigma^{-1} (x-\\mu)\\right)$$\n",
    "\n",
    "$|\\Sigma|$ = det($\\Sigma$)"
   ]
  },
  {
   "cell_type": "code",
   "execution_count": 36,
   "metadata": {},
   "outputs": [
    {
     "name": "stdout",
     "output_type": "stream",
     "text": [
      "ans =\n",
      "\n",
      "   2   9\n",
      "\n",
      "error: 'denominator' undefined near line 2 column 11\n",
      "error: called from\n",
      "    p at line 2 column 7\n",
      "error: evaluating argument list element number 1\n"
     ]
    }
   ],
   "source": [
    "mu = [0; 1];\n",
    "n = 3;\n",
    "x1 = linspace(-5, 5, n);\n",
    "x2 = linspace(-5, 5, n);\n",
    "Sigma = [1 0.5;\n",
    "         0.5 1];\n",
    "[x1m, x2m] = meshgrid(x1, x2);\n",
    "\n",
    "denominator = sqrt(2*pi*det(Sigma));\n",
    "\n",
    "p = 1/denominator * exp( -0.5 * (x-mu)' * inv(Sigma) * (x-mu) );\n",
    "\n",
    "size(x)\n",
    "size(p)"
   ]
  },
  {
   "cell_type": "code",
   "execution_count": 34,
   "metadata": {},
   "outputs": [
    {
     "name": "stdout",
     "output_type": "stream",
     "text": [
      "ans =\n",
      "\n",
      " Columns 1 through 7:\n",
      "\n",
      "   75.00000   37.50000    0.00000   37.50000    0.00000  -37.50000    0.00000\n",
      "   37.50000   25.00000   12.50000   12.50000    0.00000  -12.50000  -12.50000\n",
      "    0.00000   12.50000   25.00000  -12.50000    0.00000   12.50000  -25.00000\n",
      "   37.50000   12.50000  -12.50000   25.00000    0.00000  -25.00000   12.50000\n",
      "    0.00000    0.00000    0.00000    0.00000    0.00000    0.00000    0.00000\n",
      "  -37.50000  -12.50000   12.50000  -25.00000    0.00000   25.00000  -12.50000\n",
      "    0.00000  -12.50000  -25.00000   12.50000    0.00000  -12.50000   25.00000\n",
      "  -37.50000  -25.00000  -12.50000  -12.50000    0.00000   12.50000   12.50000\n",
      "  -75.00000  -37.50000    0.00000  -37.50000    0.00000   37.50000    0.00000\n",
      "\n",
      " Columns 8 and 9:\n",
      "\n",
      "  -37.50000  -75.00000\n",
      "  -25.00000  -37.50000\n",
      "  -12.50000    0.00000\n",
      "  -12.50000  -37.50000\n",
      "    0.00000    0.00000\n",
      "   12.50000   37.50000\n",
      "   12.50000    0.00000\n",
      "   25.00000   37.50000\n",
      "   37.50000   75.00000\n",
      "\n"
     ]
    }
   ],
   "source": [
    "x' * Sigma * x"
   ]
  },
  {
   "cell_type": "code",
   "execution_count": null,
   "metadata": {
    "collapsed": true
   },
   "outputs": [],
   "source": []
  }
 ],
 "metadata": {
  "anaconda-cloud": {},
  "kernelspec": {
   "display_name": "Octave",
   "language": "octave",
   "name": "octave"
  },
  "language_info": {
   "file_extension": ".m",
   "help_links": [
    {
     "text": "GNU Octave",
     "url": "https://www.gnu.org/software/octave/support.html"
    },
    {
     "text": "Octave Kernel",
     "url": "https://github.com/Calysto/octave_kernel"
    },
    {
     "text": "MetaKernel Magics",
     "url": "https://github.com/calysto/metakernel/blob/master/metakernel/magics/README.md"
    }
   ],
   "mimetype": "text/x-octave",
   "name": "octave",
   "version": "4.0.2"
  }
 },
 "nbformat": 4,
 "nbformat_minor": 2
}
