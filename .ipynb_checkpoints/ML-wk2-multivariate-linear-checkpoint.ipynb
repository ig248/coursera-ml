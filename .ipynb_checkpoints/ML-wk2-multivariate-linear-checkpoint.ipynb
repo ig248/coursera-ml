{
 "cells": [
  {
   "cell_type": "markdown",
   "metadata": {},
   "source": [
    "# Coursera ML - Week 2\n",
    "\n",
    "https://www.coursera.org/learn/machine-learning/home/week/2"
   ]
  },
  {
   "cell_type": "markdown",
   "metadata": {},
   "source": [
    "## Linear regression with multiple features\n",
    "\n",
    "$m$ training examples\n",
    "\n",
    "$n$ features\n",
    "\n",
    "$x_j^{(i)}$ - training example $i$, value of feature $j$\n",
    "\n",
    "Hypothesis becomes $$h_\\theta(x) = \\sum_{i=0}^n \\theta_i x_i=\\theta^Tx$$\n",
    "with $x_0 = 1$ for convenience, and $x, \\theta \\in \\mathbb{R}^{n+1}$\n",
    "\n",
    "### Gradiend descent for multiple features\n",
    "As before, \n",
    "repeat until convergence:\n",
    "$$\\theta_j := \\theta_j - \\alpha \\frac{\\partial}{\\partial \\theta_j}J(\\theta_0, \\theta_1) = \\theta_j - \\alpha \\frac{1}{m} \\sum_{i=1}^m \\left( h_\\theta(x^{(i)})-y^{(i)} \\right) x_j^{(i)}$$\n",
    "\n",
    "### Feature scaling\n",
    "Rescale features to similar scale to improve feature convergence, e.g. $-1\\leq x_i\\leq1$\n",
    "\n",
    "Mean normalization:\n",
    "\n",
    "$$x_i\\rightarrow \\frac{x_i-\\mu_i}{\\sigma_i}$$\n",
    "\n",
    "### Learning rate\n",
    "Plot $J(\\theta)$ vs no. of iterations\n",
    "\n",
    "* for *sufficiently small* $\\alpha$, $J$ should decrease every iteration\n",
    "* test logrithmic range of $\\alpha$ (e.g. 0.001, 0.001, 0.1, 1 or 1, 3, \n",
    "10, 30, ...) \n",
    "* relative convergence creteria ?"
   ]
  },
  {
   "cell_type": "markdown",
   "metadata": {},
   "source": [
    "## Feature selection and nonlinear models\n",
    "\n",
    "Combine existing features algebraically, say $x_3 = x_1\\times x_2$ - allows non-linear model in $x%$ (**still linear in coefficients $\\theta$**) \n",
    "\n",
    "Say cubic model: $x_1 = s$, $x_2 = s^2$, $x_3 = s^3$. **Use feature scaling for each feature**"
   ]
  },
  {
   "cell_type": "markdown",
   "metadata": {},
   "source": [
    "## Normal equation\n",
    "\n",
    "Solve for $\\theta$ analytically:\n",
    "$$\\frac{\\partial}{\\partial \\theta_j}J(\\theta) = 0$$\n",
    "\n",
    "Define $X_{ij} = x_j^{(i)}$ (i.e. $X\\in\\mathbb{R}^{m\\times n}$). Then:\n",
    "$$X\\theta = y$$\n",
    "$$\\theta = (X^TX)^{-1}X^T y$$\n",
    "\n",
    "Inversion time $\\sim O(n^3)$ - for large $n$ (>10000 ?), gradient descent can be faster ($\\sim O(n^2)$ ???)\n",
    "\n",
    "### Noninvertability\n",
    "\n",
    "$X^TX$ non-invertible (singular/degenerate) - use pseudo-inverse (`pinv`) - minimizes $J(\\theta)$\n",
    "\n",
    "Possible causes:\n",
    "* redundant/lineraly dependent features\n",
    "* too many features, $m\\leq n$\n",
    " - drop features, or\n",
    " - use regularization (later)"
   ]
  },
  {
   "cell_type": "markdown",
   "metadata": {},
   "source": [
    "## Quiz\n",
    "https://www.coursera.org/learn/machine-learning/exam/7pytE/linear-regression-with-multiple-variables"
   ]
  },
  {
   "cell_type": "code",
   "execution_count": 9,
   "metadata": {},
   "outputs": [
    {
     "name": "stdout",
     "output_type": "stream",
     "text": [
      "x =\n",
      "\n",
      "   89   72   94   69\n",
      "\n",
      "ans =\n",
      "\n",
      "   0.32000  -0.36000   0.52000  -0.48000\n",
      "\n"
     ]
    }
   ],
   "source": [
    "x = [89 72 94 69]\n",
    "(x - mean(x))/(max(x)-min(x))"
   ]
  },
  {
   "cell_type": "code",
   "execution_count": 10,
   "metadata": {},
   "outputs": [
    {
     "name": "stdout",
     "output_type": "stream",
     "text": [
      "warning: the 'peak2peak' function belongs to the signal package from Octave Forge\n",
      "which seems to not be installed in your system.\n",
      "\n",
      "Please read <http://www.octave.org/missing.html> to learn how you can\n",
      "contribute missing functionality.\n",
      "warning: called from\n",
      "    __unimplemented__ at line 524 column 5\n",
      "error: 'peak2peak' undefined near line 1 column 1\n"
     ]
    }
   ],
   "source": [
    "peak2peak"
   ]
  },
  {
   "cell_type": "code",
   "execution_count": null,
   "metadata": {
    "collapsed": true
   },
   "outputs": [],
   "source": []
  }
 ],
 "metadata": {
  "anaconda-cloud": {},
  "kernelspec": {
   "display_name": "Octave",
   "language": "octave",
   "name": "octave"
  },
  "language_info": {
   "file_extension": ".m",
   "help_links": [
    {
     "text": "GNU Octave",
     "url": "https://www.gnu.org/software/octave/support.html"
    },
    {
     "text": "Octave Kernel",
     "url": "https://github.com/Calysto/octave_kernel"
    },
    {
     "text": "MetaKernel Magics",
     "url": "https://github.com/calysto/metakernel/blob/master/metakernel/magics/README.md"
    }
   ],
   "mimetype": "text/x-octave",
   "name": "octave",
   "version": "4.0.0"
  }
 },
 "nbformat": 4,
 "nbformat_minor": 2
}
