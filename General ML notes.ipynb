{
 "cells": [
  {
   "cell_type": "markdown",
   "metadata": {},
   "source": [
    "# Cross-validation\n",
    "- Alternative to train/validate/test split\n",
    "- Strategies:\n",
    "  * $k$-fold\n",
    "  * Leave One Out\n",
    "  * Shuffle & Split\n",
    "  * ...\n",
    "\n",
    "http://scikit-learn.org/stable/modules/cross_validation.html#cross-validation\n",
    "\n",
    "https://en.wikipedia.org/wiki/Cross-validation_(statistics)"
   ]
  },
  {
   "cell_type": "markdown",
   "metadata": {},
   "source": [
    "# Scoring\n",
    "http://scikit-learn.org/stable/modules/model_evaluation.html#scoring-parameter"
   ]
  },
  {
   "cell_type": "code",
   "execution_count": 10,
   "metadata": {},
   "outputs": [
    {
     "name": "stdout",
     "output_type": "stream",
     "text": [
      "accuracy\n",
      "adjusted_mutual_info_score\n",
      "adjusted_rand_score\n",
      "average_precision\n",
      "completeness_score\n",
      "explained_variance\n",
      "f1\n",
      "f1_macro\n",
      "f1_micro\n",
      "f1_samples\n",
      "f1_weighted\n",
      "fowlkes_mallows_score\n",
      "homogeneity_score\n",
      "log_loss\n",
      "mean_absolute_error\n",
      "mean_squared_error\n",
      "median_absolute_error\n",
      "mutual_info_score\n",
      "neg_log_loss\n",
      "neg_mean_absolute_error\n",
      "neg_mean_squared_error\n",
      "neg_mean_squared_log_error\n",
      "neg_median_absolute_error\n",
      "normalized_mutual_info_score\n",
      "precision\n",
      "precision_macro\n",
      "precision_micro\n",
      "precision_samples\n",
      "precision_weighted\n",
      "r2\n",
      "recall\n",
      "recall_macro\n",
      "recall_micro\n",
      "recall_samples\n",
      "recall_weighted\n",
      "roc_auc\n",
      "v_measure_score\n"
     ]
    }
   ],
   "source": [
    "import sklearn\n",
    "for name, val in sorted(sklearn.metrics.SCORERS.iteritems()):\n",
    "    print name"
   ]
  },
  {
   "cell_type": "markdown",
   "metadata": {
    "collapsed": true
   },
   "source": [
    "# Cross-validation\n",
    "Manual validation set:\n",
    "```python\n",
    "from sklearn.model_selection import PredefinedSplit\n",
    "```"
   ]
  },
  {
   "cell_type": "markdown",
   "metadata": {},
   "source": [
    "# Learning curves\n",
    "http://scikit-learn.org/stable/auto_examples/model_selection/plot_learning_curve.html\n",
    "\n"
   ]
  },
  {
   "cell_type": "code",
   "execution_count": null,
   "metadata": {
    "collapsed": true
   },
   "outputs": [],
   "source": []
  }
 ],
 "metadata": {
  "anaconda-cloud": {},
  "kernelspec": {
   "display_name": "Python [default]",
   "language": "python",
   "name": "python2"
  },
  "language_info": {
   "codemirror_mode": {
    "name": "ipython",
    "version": 2
   },
   "file_extension": ".py",
   "mimetype": "text/x-python",
   "name": "python",
   "nbconvert_exporter": "python",
   "pygments_lexer": "ipython2",
   "version": "2.7.12"
  }
 },
 "nbformat": 4,
 "nbformat_minor": 2
}
