{
 "cells": [
  {
   "cell_type": "markdown",
   "metadata": {},
   "source": [
    "# Coursera ML - Week 9\n",
    "\n",
    "https://www.coursera.org/learn/machine-learning/home/week/9"
   ]
  },
  {
   "cell_type": "markdown",
   "metadata": {},
   "source": [
    "# Anomaly detection"
   ]
  },
  {
   "cell_type": "markdown",
   "metadata": {},
   "source": [
    "## Motivation\n",
    "E.g. QA for aircraft engines\n",
    "\n",
    "$x_1$ = heat generated\n",
    "\n",
    "$x_2$ = vibration intensity\n",
    "\n",
    "Dataset: $\\{x^{(1)}, \\dots\\, x^{(m)}\\}$\n",
    "\n",
    "New engine: $x_\\textrm{test}$ - is it an anomaly/outlier???\n",
    "\n",
    "## Probability from Density estimation\n",
    "Estimate PDF $p(x)$ from dataset\n",
    "\n",
    "$p(x_\\textrm{test}) < \\epsilon$ - anomaly\n",
    "\n",
    "$p(x_\\textrm{test}) \\geq \\epsilon$ - OK\n",
    "\n",
    "## Examples\n",
    "- Fraud detection from features of user behaviour\n",
    "- Manufacturing\n",
    "- Monitoring computers in a data center"
   ]
  },
  {
   "cell_type": "markdown",
   "metadata": {},
   "source": [
    "## Gaussian Distribution\n",
    "### Definition\n",
    "$$x\\sim N(\\mu, \\sigma^2)$$\n",
    "\n",
    "$$p(x) = \\frac{1}{\\sqrt{2\\pi} \\sigma}\\exp\\left( -\\frac{(x-\\mu)^2}{2\\sigma^2} \\right)$$\n",
    "\n",
    "### Parameter estimation\n",
    "Dataset: $\\{x^{(1)}, \\dots\\, x^{(m)}\\}$\n",
    "\n",
    "$\\mu$ = mean of $x$, $\\sigma^2$ = variance of $x$ (using $\\frac{1}{m}$)"
   ]
  },
  {
   "cell_type": "markdown",
   "metadata": {},
   "source": [
    "## Density estimation\n",
    "\n",
    "If independent: $p(x) = p_1(x_1)\\times\\dots\\times p_n(x_m)$,\n",
    "\n",
    "$x_i \\sim N(\\mu_i, \\sigma_i^2)$"
   ]
  },
  {
   "cell_type": "markdown",
   "metadata": {},
   "source": [
    "### Developing and evaluating an anomaly detection system\n",
    "\n",
    "Labeled data\n",
    "Say 10000 normal ($y=0$), 20 anomalous ($y=1$)\n",
    "- Training set: 6000 normal\n",
    "- Cross-validation set: 2000 normal, 10 anomalous\n",
    "- Test set: 2000 normal, 10 anomalous\n",
    "\n",
    "#### Training and validation:\n",
    "\n",
    "1. Fit model $p(x)$ on training set\n",
    "2. Predict $y=1$ if $p(x) < \\epsilon$ on CV and Test sets\n",
    "3. Possible evaluation metrics:\n",
    "    * True pos, false pos, false neg, true neg\n",
    "    * Precision/Recall\n",
    "    * $F_1$ score\n",
    "    \n",
    "> Can use cross-validation set to choose parameter $\\epsilon$"
   ]
  },
  {
   "cell_type": "markdown",
   "metadata": {},
   "source": [
    "## Anomaly detection vs. Supervised learning\n",
    "### Use anomaly detection with:\n",
    "- Very small number of positive examples (0-20)\n",
    "- Large number of negative examples\n",
    "- Many different \"types\" of anomalies\n",
    "- **Future anomalies may look very different from existing examples**\n",
    "- Examples:\n",
    "    * Fraud detection\n",
    "    * Manufacturing\n",
    "    * Monitoring machines in data center\n",
    "\n",
    "### Supervised learning\n",
    "- Large number of positive *and* negative examples \n",
    "- **Future positive examples likely similar to known ones**\n",
    "- Examples:\n",
    "    * Email spam classification\n",
    "    * Weather prediction\n",
    "    * Cancer classification"
   ]
  },
  {
   "cell_type": "markdown",
   "metadata": {},
   "source": [
    "## Choosing Features for Anomaly Detection\n",
    "\n",
    "Plot histogram and see if ~Gaussian\n",
    "\n",
    "If not, transform data to remove skew - e.g. take `log`, power"
   ]
  },
  {
   "cell_type": "code",
   "execution_count": 15,
   "metadata": {},
   "outputs": [
    {
     "data": {
      "image/png": "[encoded data removed]",
      "text/plain": [
       "<IPython.core.display.Image object>"
      ]
     },
     "metadata": {},
     "output_type": "display_data"
    }
   ],
   "source": [
    "x = exp(randn(1, 100000));\n",
    "subplot(1,2,1)\n",
    "hist(x, 50)\n",
    "subplot(1,2,2)\n",
    "hist(x.^0.01, 50)"
   ]
  },
  {
   "cell_type": "markdown",
   "metadata": {},
   "source": [
    "### Error analysis\n",
    "Want $p(x)$ large for normal $x$, small for anomalous $x$\n",
    "\n",
    "Most common problemL $p(x)$ is comparable (say, both large) for normal *and* anomalous examples\n",
    "\n",
    "**add/create new features!!!**"
   ]
  },
  {
   "cell_type": "markdown",
   "metadata": {},
   "source": [
    "## Multivariate Gaussian distribution\n",
    "Non-independent features\n",
    "\n",
    "$$p(x) = \\frac{1}{\\sqrt{2\\pi|\\Sigma|}}\\exp\\left( -\\frac{1}{2}(x-\\mu)^T \\Sigma^{-1} (x-\\mu)\\right)$$\n",
    "\n",
    "$|\\Sigma|$ = det($\\Sigma$)\n",
    "\n",
    "$\\mu = \\frac{1}{m}\\sum_{i=1}^m x^{(i)}$ = means\n",
    "\n",
    "$\\Sigma = \\frac{1}{m}\\sum_{i=1}^m (x^{(i)}-\\mu)(x^{(i)}-\\mu)^T$ = covariance matrix\n",
    "\n",
    "### Separable Gaussian:\n",
    "- had to capture feature correlation manually by creating new features\n",
    "- scales better to large $n$\n",
    "- OK even if $m$ small\n",
    "\n",
    "### Multivariate Gaussian:\n",
    "- automatically capture correlation\n",
    "- computationally more expensive\n",
    "- must have $m>n$, or $\\Sigma$ non-invertible (typically use for $m\\geq 10n$)\n",
    "\n",
    "**NB** this is equivalent to doing PCA!!!"
   ]
  },
  {
   "cell_type": "code",
   "execution_count": 64,
   "metadata": {},
   "outputs": [
    {
     "data": {
      "image/png": "[encoded data removed]",
      "text/plain": [
       "<IPython.core.display.Image object>"
      ]
     },
     "metadata": {},
     "output_type": "display_data"
    }
   ],
   "source": [
    "mu = [0; 2];\n",
    "n = 100;\n",
    "x1 = linspace(-5, 5, n);\n",
    "x2 = linspace(-5, 5, n);\n",
    "Sigma = [0.7 -0.5;\n",
    "         -0.5 1];\n",
    "[x1m, x2m] = meshgrid(x1, x2);\n",
    "x = [x1m(:)'; x2m(:)'];\n",
    "denominator = sqrt(2*pi*det(Sigma));\n",
    "% the use of diag is horribly wrong and inefficient!!!\n",
    "p = 1/denominator * exp( -0.5 * diag( (x-mu)' * inv(Sigma) * (x-mu) ) );\n",
    "p = reshape(p, [n, n]);\n",
    "contourf(x1m, x2m, p)\n",
    "xlabel('x1')\n",
    "ylabel('x2')"
   ]
  },
  {
   "cell_type": "markdown",
   "metadata": {},
   "source": [
    "#### Singular Covariance matrix\n",
    "- $m < n$ - need more examples\n",
    "- redundant/perfectly correlated features"
   ]
  },
  {
   "cell_type": "markdown",
   "metadata": {},
   "source": [
    "# Recommender Systems\n",
    "## Example: predicting movie ratings\n",
    "0-5 stars\n",
    "\n",
    "- $n_u$ = # users\n",
    "- $n_m$ = # movies\n",
    "- $r(i, j)=1$ if user $j$ has rated movie $i$\n",
    "- $y^{(i,j)}$ = rating given by user $j$ to movie $i$ (if $r(i,j)=1$)\n",
    "\n",
    "\n",
    "| Movie | User A | User B | User C|\n",
    "|---|---|---|---|\n",
    "|RomCom 1 | 5 | 4 | 0|\n",
    "|RomCom 2 | 5 | 4 | 1|\n",
    "|HackNSlach 3 | ? | 1 | 5|\n",
    "|CarChase 4 | 1 | 0 | ?|\n",
    "**Problem:** Given dataset, predict missing ratings $y$\n",
    "\n",
    "## Content-based recommender systems\n",
    "\n",
    "Introduce features by content, e.g.\n",
    "\n",
    "|Movie| $x_1$ (romance) | $x_2$ (action) |\n",
    "|---|---|---|\n",
    "| RomCom 1| 0.9 | 0 |\n",
    "| ... | ... | ... |\n",
    "\n",
    "$n$ ($=2$) features\n",
    "\n",
    "Add $x_0 = 1$\n",
    "\n",
    "For each user $j$, learn parameter $\\theta^{(j)} \\in \\mathbb{R}^{(n+1)}$\n",
    "\n",
    "Predict user $j$ rating movie $i$ with $y^{(i,j)} = \\left( \\theta^{(j)} \\right)^T x^{(i)}$ stars\n",
    "\n",
    "### Basically linear regression\n",
    "\n",
    "Least square optimization + regularization over all users\n",
    "\n",
    "$$\\sum \\sum \\left( \\left( \\theta^{(j)} \\right)^T x^{(i)} - y^{(i, j)} \\right)^2 + \\sum \\sum \\textrm{R.T.}$$"
   ]
  },
  {
   "cell_type": "markdown",
   "metadata": {},
   "source": [
    "# Collaborative Filtering\n",
    "Where do we get features $x_i$???\n",
    "\n",
    "Can learn features $x_i$ if we have user preferences $\\theta^{j}$\n",
    "\n",
    "Minimize *same cost function* w.r.t. $x_i$ (with reguralization term for $x_i$)\n",
    "\n",
    "**Could Iterate: ** $\\theta\\rightarrow x \\rightarrow\\theta\\rightarrow \\dots$\n",
    "\n",
    "Instead, minimize:\n",
    "\n",
    "$$J(x, \\theta) =\n",
    "\\frac{1}{2} \\sum_{(i,j): r(i,j)=1}\n",
    "\\left( \\left( \\theta^{(j)}\\right)^T x^{(i)} - y^{(i,j)}\\right)^2 +\n",
    "\\frac{\\lambda}{2}\\sum_{i=1}^{n_m}\\sum_{k=1}^{n}\\left( x_k^{(i)} \\right)^2 +\n",
    "\\frac{\\lambda}{2}\\sum_{j=1}^{n_u}\\sum_{k=1}^{n}\\left( \\theta_k^{(j)} \\right)^2\n",
    "$$"
   ]
  },
  {
   "cell_type": "markdown",
   "metadata": {},
   "source": [
    "## Collaborative filtering algorithm\n",
    "1. Initialize $x$, $\\theta$ randomly\n",
    "2. Minimize $J(x, \\theta)$ using e.g. gradient descent\n",
    "3. For user with parameters $\\theta$ and movie with learned features $x$, predict a star rating of $\\theta^T x$"
   ]
  },
  {
   "cell_type": "markdown",
   "metadata": {},
   "source": [
    "## Vectorization: Low Rank Matrix Factorization\n",
    "consider matrix of ratings:\n",
    "$$Y \\in \\mathbb{R}^{n_m \\times n_u}$$\n",
    "$$Y_{ij} = \\left(\\theta^{(j)}\\right)^T x^{(i)}$$\n",
    "\n",
    "Low-rank matrix factorization:\n",
    "$$Y = X\\Theta^T$$"
   ]
  },
  {
   "cell_type": "markdown",
   "metadata": {},
   "source": [
    "## Finding related movies\n",
    "For each product $i$, we learn a feature vector $x^{(i)}\\in \\mathbb{R}^n$\n",
    "\n",
    "How to find movies $j$ related to movies $i$?\n",
    "\n",
    "Consider similarity = distance $|x^i-x^j|$"
   ]
  },
  {
   "cell_type": "markdown",
   "metadata": {},
   "source": [
    "## Implementation: Mean Normalization\n",
    "### Motivation\n",
    "Consider e.g.\n",
    "\n",
    "$$\n",
    "Y = \n",
    "\\begin{bmatrix}\n",
    "    5 & 5 & 0 & 0 & ? \\\\\n",
    "    5 & ? & ? & 0 & ? \\\\\n",
    "    ? & 4 & 0 & ? & ? \\\\\n",
    "    0 & 0 & 5 & 4 & ? \\\\\n",
    "    0 & 0 & 5 & 0 & ?\n",
    "\\end{bmatrix}\n",
    "$$\n",
    "\n",
    "$n=2$ (learn two features)\n",
    "Regularization term will force $\\theta^{(5)} = (0, 0)^T$ and predict $\\left(\\theta^{(5)}\\right)^T x^{(i)} = 0$\n",
    "\n",
    "### Mean Normalization\n",
    "Subtract mean ratings per movie:\n",
    "$$\n",
    "\\mu = \n",
    "\\begin{bmatrix}\n",
    "    2.5 \\\\\n",
    "    2.5 \\\\\n",
    "    2 \\\\\n",
    "    2.25 \\\\\n",
    "    1.25\n",
    "\\end{bmatrix}\n",
    "$$\n",
    "\n",
    "Learn $\\theta$, $x$ on $Y-\\mu$.\n",
    "\n",
    "For user $j$, movie $i$, predict\n",
    "$\\left(\\theta^{(j)}\\right)^T x^{(i)} + \\mu_i$\n",
    "\n",
    "Thus, we will predict mean rating of the movie for user with no ratings."
   ]
  },
  {
   "cell_type": "code",
   "execution_count": null,
   "metadata": {
    "collapsed": true
   },
   "outputs": [],
   "source": []
  }
 ],
 "metadata": {
  "anaconda-cloud": {},
  "kernelspec": {
   "display_name": "Octave",
   "language": "octave",
   "name": "octave"
  },
  "language_info": {
   "file_extension": ".m",
   "help_links": [
    {
     "text": "GNU Octave",
     "url": "https://www.gnu.org/software/octave/support.html"
    },
    {
     "text": "Octave Kernel",
     "url": "https://github.com/Calysto/octave_kernel"
    },
    {
     "text": "MetaKernel Magics",
     "url": "https://github.com/calysto/metakernel/blob/master/metakernel/magics/README.md"
    }
   ],
   "mimetype": "text/x-octave",
   "name": "octave",
   "version": "4.0.2"
  }
 },
 "nbformat": 4,
 "nbformat_minor": 2
}
